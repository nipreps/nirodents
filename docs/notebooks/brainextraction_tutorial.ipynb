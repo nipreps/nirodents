{
 "cells": [
  {
   "cell_type": "code",
   "execution_count": null,
   "metadata": {},
   "outputs": [],
   "source": [
    "# imports\n",
    "from pathlib import Path\n",
    "from nirodents.workflows.brainextraction import init_rodent_brain_extraction_wf"
   ]
  },
  {
   "cell_type": "code",
   "execution_count": null,
   "metadata": {},
   "outputs": [],
   "source": [
    "# Define inputs\n",
    "wd = Path.cwd()\n",
    "home_dir = wd.parents[1]\n",
    "in_dir = Path(home_dir, 'nirodents', 'data', 'testdata', 'sub-15', 'anat')\n",
    "tar_img = Path(in_dir, 'sub-15_T2w.nii.gz')"
   ]
  },
  {
   "cell_type": "code",
   "execution_count": null,
   "metadata": {},
   "outputs": [],
   "source": [
    "# Minimal set up of workflow\n",
    "be_wf = init_rodent_brain_extraction_wf(output_dir=wd)\n",
    "be_wf.inputs.inputnode.in_files = [tar_img]"
   ]
  },
  {
   "cell_type": "code",
   "execution_count": null,
   "metadata": {},
   "outputs": [],
   "source": [
    "# Run\n",
    "be_wf.run()"
   ]
  },
  {
   "cell_type": "code",
   "execution_count": null,
   "metadata": {},
   "outputs": [],
   "source": [
    "# display graph\n",
    "be_wf.write_graph(graph2use='flat', dotfilename='./graph_flat.dot')\n",
    "\n",
    "from IPython.display import Image\n",
    "Image(filename=\"graph_flat.png\")"
   ]
  }
 ],
 "metadata": {
  "kernelspec": {
   "display_name": "Python 3",
   "language": "python",
   "name": "python3"
  },
  "language_info": {
   "codemirror_mode": {
    "name": "ipython",
    "version": 3
   },
   "file_extension": ".py",
   "mimetype": "text/x-python",
   "name": "python",
   "nbconvert_exporter": "python",
   "pygments_lexer": "ipython3",
   "version": "3.9.7"
  }
 },
 "nbformat": 4,
 "nbformat_minor": 4
}
